{
 "cells": [
  {
   "cell_type": "code",
   "execution_count": null,
   "metadata": {
    "collapsed": true
   },
   "outputs": [],
   "source": [
    "from plotly import __version__\n",
    "from plotly.offline import download_plotlyjs, init_notebook_mode, plot, iplot\n",
    "import plotly.graph_objs as go"
   ]
  },
  {
   "cell_type": "code",
   "execution_count": 221,
   "metadata": {
    "collapsed": true
   },
   "outputs": [],
   "source": [
    "%matplotlib inline\n",
    "import numpy as np\n",
    "import pandas as pd\n",
    "import matplotlib.pyplot as plt\n",
    "import datetime\n",
    "from matplotlib import style\n",
    "style.use('seaborn-notebook')\n",
    "import macpy.utils.ngc_utils as ngcu"
   ]
  },
  {
   "cell_type": "code",
   "execution_count": 229,
   "metadata": {
    "collapsed": true
   },
   "outputs": [],
   "source": [
    "df_raw = pd.read_csv('data_TOYOTA.csv')\n",
    "# df_raw = pd.read_csv('data_DAIGR.csv')\n",
    "# df_raw = pd.read_csv('data_GT.csv')"
   ]
  },
  {
   "cell_type": "code",
   "execution_count": 230,
   "metadata": {
    "collapsed": false
   },
   "outputs": [],
   "source": [
    "df = df_raw.set_index('TradeDate')"
   ]
  },
  {
   "cell_type": "code",
   "execution_count": 231,
   "metadata": {
    "collapsed": true
   },
   "outputs": [],
   "source": [
    "df_catell = df[df['category'] == 'll']\n",
    "df_catelc = df[df['category'] == 'lc']\n",
    "df_catew = df[df['category'] == 'w']"
   ]
  },
  {
   "cell_type": "code",
   "execution_count": 232,
   "metadata": {
    "collapsed": false
   },
   "outputs": [],
   "source": [
    "# normalized weight\n",
    "w = df_catew.loc[:,'Quote'] / df_catew.loc[:, 'SumAmtOutstanding']\n",
    "df_catew.loc[:,'Quote'] = w.values"
   ]
  },
  {
   "cell_type": "code",
   "execution_count": 233,
   "metadata": {
    "collapsed": false
   },
   "outputs": [],
   "source": [
    "#s_combine_(t) = (1-alpha)*s_l(t) + alpha*s_c(t)\n",
    "alpha = 0.01\n",
    "df_comb_ = df_catell.copy()\n",
    "df_comb_ = df_comb_.replace('ll', 'combine')\n",
    "df_comb_['Quote'] = (1 - alpha) * df_catell['Quote'] + alpha * df_catelc['Quote']"
   ]
  },
  {
   "cell_type": "code",
   "execution_count": 234,
   "metadata": {
    "collapsed": true
   },
   "outputs": [],
   "source": [
    "tmp = df_comb_[['TenorEnum','Quote']]\n",
    "tmp1 = tmp.reset_index().set_index(['TenorEnum','TradeDate']) #multiindex\n",
    "df_comb = tmp1.unstack(0) #ts; 23 col(term)"
   ]
  },
  {
   "cell_type": "code",
   "execution_count": 235,
   "metadata": {
    "collapsed": true
   },
   "outputs": [],
   "source": [
    "#unstacked ll (get 1st day level value)\n",
    "tmp2 = df_catell[['TenorEnum','Quote']]\n",
    "tmp3 = tmp2.reset_index().set_index(['TenorEnum','TradeDate'])\n",
    "level = tmp3.unstack(0)\n",
    "#set 1st day value to (1-alpha)*s_l(1) + alpha*s_c(1) + alpha*s_l(1)\n",
    "df_comb.iloc[0, :]  = df_comb.iloc[0, :] + alpha * level.iloc[0, :]"
   ]
  },
  {
   "cell_type": "code",
   "execution_count": 236,
   "metadata": {
    "collapsed": true
   },
   "outputs": [],
   "source": [
    "# comb(t) = (1-alpha)*s_l(t) + alpha*s_c(t) + alpha * comb(t-1) \n",
    "for i in range(1, len(df_comb)):\n",
    "    df_comb.iloc[i,:] = df_comb.iloc[i,:] + alpha * df_comb.iloc[(i-1),:]"
   ]
  },
  {
   "cell_type": "code",
   "execution_count": 237,
   "metadata": {
    "collapsed": false
   },
   "outputs": [],
   "source": [
    "#mExp combined spread\n",
    "mExp = pd.DataFrame(ngcu.mExp(df_comb),index=df_comb.index,columns=df_comb.columns)"
   ]
  },
  {
   "cell_type": "code",
   "execution_count": 238,
   "metadata": {
    "collapsed": true
   },
   "outputs": [],
   "source": [
    "#w\n",
    "tmp4 = df_catew[['TenorEnum','Quote']]\n",
    "tmp5 = tmp4.reset_index().set_index(['TenorEnum','TradeDate']) #multiindex\n",
    "weights = tmp5.unstack(0)"
   ]
  },
  {
   "cell_type": "code",
   "execution_count": 239,
   "metadata": {
    "collapsed": false
   },
   "outputs": [],
   "source": [
    "#s_bar\n",
    "weighted_average = mExp * weights\n",
    "sbar_ = weighted_average.sum(1)"
   ]
  },
  {
   "cell_type": "code",
   "execution_count": 240,
   "metadata": {
    "collapsed": false
   },
   "outputs": [],
   "source": [
    "# return series\n",
    "r = np.diff(ngcu.mLog(sbar_))\n",
    "sbar = pd.DataFrame(sbar_[1:], columns = ['WeightedAverage'])\n",
    "sbar['Return'] = r"
   ]
  },
  {
   "cell_type": "code",
   "execution_count": 241,
   "metadata": {
    "collapsed": false
   },
   "outputs": [
    {
     "data": {
      "text/plain": [
       "<matplotlib.axes._subplots.AxesSubplot at 0x1aa21358>"
      ]
     },
     "execution_count": 241,
     "metadata": {},
     "output_type": "execute_result"
    },
    {
     "data": {
      "image/png": "[encoded data removed]",
      "text/plain": [
       "<matplotlib.figure.Figure at 0x18cbccc0>"
      ]
     },
     "metadata": {},
     "output_type": "display_data"
    }
   ],
   "source": [
    "sbar['Return'].plot()"
   ]
  },
  {
   "cell_type": "code",
   "execution_count": 242,
   "metadata": {
    "collapsed": false
   },
   "outputs": [
    {
     "data": {
      "text/plain": [
       "<matplotlib.axes._subplots.AxesSubplot at 0x18b38278>"
      ]
     },
     "execution_count": 242,
     "metadata": {},
     "output_type": "execute_result"
    },
    {
     "data": {
      "image/png": "[encoded data removed]",
      "text/plain": [
       "<matplotlib.figure.Figure at 0x1325b2b0>"
      ]
     },
     "metadata": {},
     "output_type": "display_data"
    }
   ],
   "source": [
    "sbar['WeightedAverage'].plot()"
   ]
  },
  {
   "cell_type": "code",
   "execution_count": 273,
   "metadata": {
    "collapsed": false
   },
   "outputs": [],
   "source": [
    "data = [go.Scatter(x=sbar.index, y=sbar.WeightedAverage)]"
   ]
  },
  {
   "cell_type": "code",
   "execution_count": 274,
   "metadata": {
    "collapsed": false
   },
   "outputs": [
    {
     "ename": "Error",
     "evalue": "[('system library', 'fopen', 'No such file or directory'), ('BIO routines', 'BIO_new_file', 'no such file'), ('x509 certificate routines', 'X509_load_cert_crl_file', 'system lib')]",
     "traceback": [
      "\u001b[0;31m---------------------------------------------------------------------------\u001b[0m",
      "\u001b[0;31mError\u001b[0m                                     Traceback (most recent call last)",
      "\u001b[0;32m<ipython-input-274-acaf32e729fa>\u001b[0m in \u001b[0;36m<module>\u001b[0;34m()\u001b[0m\n\u001b[0;32m----> 1\u001b[0;31m \u001b[0mpy\u001b[0m\u001b[1;33m.\u001b[0m\u001b[0miplot\u001b[0m\u001b[1;33m(\u001b[0m\u001b[0mdata\u001b[0m\u001b[1;33m)\u001b[0m\u001b[1;33m\u001b[0m\u001b[0m\n\u001b[0m",
      "\u001b[0;32mC:\\Users\\lyang\\Anaconda2\\lib\\site-packages\\plotly\\plotly\\plotly.pyc\u001b[0m in \u001b[0;36miplot\u001b[0;34m(figure_or_data, **plot_options)\u001b[0m\n\u001b[1;32m    132\u001b[0m     \u001b[1;32mif\u001b[0m \u001b[1;34m'auto_open'\u001b[0m \u001b[1;32mnot\u001b[0m \u001b[1;32min\u001b[0m \u001b[0mplot_options\u001b[0m\u001b[1;33m:\u001b[0m\u001b[1;33m\u001b[0m\u001b[0m\n\u001b[1;32m    133\u001b[0m         \u001b[0mplot_options\u001b[0m\u001b[1;33m[\u001b[0m\u001b[1;34m'auto_open'\u001b[0m\u001b[1;33m]\u001b[0m \u001b[1;33m=\u001b[0m \u001b[0mFalse\u001b[0m\u001b[1;33m\u001b[0m\u001b[0m\n\u001b[0;32m--> 134\u001b[0;31m     \u001b[0murl\u001b[0m \u001b[1;33m=\u001b[0m \u001b[0mplot\u001b[0m\u001b[1;33m(\u001b[0m\u001b[0mfigure_or_data\u001b[0m\u001b[1;33m,\u001b[0m \u001b[1;33m**\u001b[0m\u001b[0mplot_options\u001b[0m\u001b[1;33m)\u001b[0m\u001b[1;33m\u001b[0m\u001b[0m\n\u001b[0m\u001b[1;32m    135\u001b[0m \u001b[1;33m\u001b[0m\u001b[0m\n\u001b[1;32m    136\u001b[0m     \u001b[1;32mif\u001b[0m \u001b[0misinstance\u001b[0m\u001b[1;33m(\u001b[0m\u001b[0mfigure_or_data\u001b[0m\u001b[1;33m,\u001b[0m \u001b[0mdict\u001b[0m\u001b[1;33m)\u001b[0m\u001b[1;33m:\u001b[0m\u001b[1;33m\u001b[0m\u001b[0m\n",
      "\u001b[0;32mC:\\Users\\lyang\\Anaconda2\\lib\\site-packages\\plotly\\plotly\\plotly.pyc\u001b[0m in \u001b[0;36mplot\u001b[0;34m(figure_or_data, validate, **plot_options)\u001b[0m\n\u001b[1;32m    225\u001b[0m     \u001b[0mdata\u001b[0m \u001b[1;33m=\u001b[0m \u001b[0mfig\u001b[0m\u001b[1;33m.\u001b[0m\u001b[0mget\u001b[0m\u001b[1;33m(\u001b[0m\u001b[1;34m'data'\u001b[0m\u001b[1;33m,\u001b[0m \u001b[1;33m[\u001b[0m\u001b[1;33m]\u001b[0m\u001b[1;33m)\u001b[0m\u001b[1;33m\u001b[0m\u001b[0m\n\u001b[1;32m    226\u001b[0m     \u001b[0mplot_options\u001b[0m\u001b[1;33m[\u001b[0m\u001b[1;34m'layout'\u001b[0m\u001b[1;33m]\u001b[0m \u001b[1;33m=\u001b[0m \u001b[0mfig\u001b[0m\u001b[1;33m.\u001b[0m\u001b[0mget\u001b[0m\u001b[1;33m(\u001b[0m\u001b[1;34m'layout'\u001b[0m\u001b[1;33m,\u001b[0m \u001b[1;33m{\u001b[0m\u001b[1;33m}\u001b[0m\u001b[1;33m)\u001b[0m\u001b[1;33m\u001b[0m\u001b[0m\n\u001b[0;32m--> 227\u001b[0;31m     \u001b[0mresponse\u001b[0m \u001b[1;33m=\u001b[0m \u001b[0mv1\u001b[0m\u001b[1;33m.\u001b[0m\u001b[0mclientresp\u001b[0m\u001b[1;33m(\u001b[0m\u001b[0mdata\u001b[0m\u001b[1;33m,\u001b[0m \u001b[1;33m**\u001b[0m\u001b[0mplot_options\u001b[0m\u001b[1;33m)\u001b[0m\u001b[1;33m\u001b[0m\u001b[0m\n\u001b[0m\u001b[1;32m    228\u001b[0m \u001b[1;33m\u001b[0m\u001b[0m\n\u001b[1;32m    229\u001b[0m     \u001b[1;31m# Check if the url needs a secret key\u001b[0m\u001b[1;33m\u001b[0m\u001b[1;33m\u001b[0m\u001b[0m\n",
      "\u001b[0;32mC:\\Users\\lyang\\Anaconda2\\lib\\site-packages\\plotly\\api\\v1\\clientresp.pyc\u001b[0m in \u001b[0;36mclientresp\u001b[0;34m(data, **kwargs)\u001b[0m\n\u001b[1;32m     33\u001b[0m \u001b[1;33m\u001b[0m\u001b[0m\n\u001b[1;32m     34\u001b[0m     \u001b[0murl\u001b[0m \u001b[1;33m=\u001b[0m \u001b[1;34m'{plotly_domain}/clientresp'\u001b[0m\u001b[1;33m.\u001b[0m\u001b[0mformat\u001b[0m\u001b[1;33m(\u001b[0m\u001b[1;33m**\u001b[0m\u001b[0mcfg\u001b[0m\u001b[1;33m)\u001b[0m\u001b[1;33m\u001b[0m\u001b[0m\n\u001b[0;32m---> 35\u001b[0;31m     \u001b[0mresponse\u001b[0m \u001b[1;33m=\u001b[0m \u001b[0mrequest\u001b[0m\u001b[1;33m(\u001b[0m\u001b[1;34m'post'\u001b[0m\u001b[1;33m,\u001b[0m \u001b[0murl\u001b[0m\u001b[1;33m,\u001b[0m \u001b[0mdata\u001b[0m\u001b[1;33m=\u001b[0m\u001b[0mpayload\u001b[0m\u001b[1;33m)\u001b[0m\u001b[1;33m\u001b[0m\u001b[0m\n\u001b[0m\u001b[1;32m     36\u001b[0m \u001b[1;33m\u001b[0m\u001b[0m\n\u001b[1;32m     37\u001b[0m     \u001b[1;31m# Old functionality, just keeping it around.\u001b[0m\u001b[1;33m\u001b[0m\u001b[1;33m\u001b[0m\u001b[0m\n",
      "\u001b[0;32mC:\\Users\\lyang\\Anaconda2\\lib\\site-packages\\plotly\\api\\v1\\utils.pyc\u001b[0m in \u001b[0;36mrequest\u001b[0;34m(method, url, **kwargs)\u001b[0m\n\u001b[1;32m     76\u001b[0m     \u001b[0mkwargs\u001b[0m\u001b[1;33m[\u001b[0m\u001b[1;34m'verify'\u001b[0m\u001b[1;33m]\u001b[0m \u001b[1;33m=\u001b[0m \u001b[0mconfig\u001b[0m\u001b[1;33m.\u001b[0m\u001b[0mget_config\u001b[0m\u001b[1;33m(\u001b[0m\u001b[1;33m)\u001b[0m\u001b[1;33m[\u001b[0m\u001b[1;34m'plotly_ssl_verification'\u001b[0m\u001b[1;33m]\u001b[0m\u001b[1;33m\u001b[0m\u001b[0m\n\u001b[1;32m     77\u001b[0m     \u001b[1;32mtry\u001b[0m\u001b[1;33m:\u001b[0m\u001b[1;33m\u001b[0m\u001b[0m\n\u001b[0;32m---> 78\u001b[0;31m         \u001b[0mresponse\u001b[0m \u001b[1;33m=\u001b[0m \u001b[0mrequests\u001b[0m\u001b[1;33m.\u001b[0m\u001b[0mrequest\u001b[0m\u001b[1;33m(\u001b[0m\u001b[0mmethod\u001b[0m\u001b[1;33m,\u001b[0m \u001b[0murl\u001b[0m\u001b[1;33m,\u001b[0m \u001b[1;33m**\u001b[0m\u001b[0mkwargs\u001b[0m\u001b[1;33m)\u001b[0m\u001b[1;33m\u001b[0m\u001b[0m\n\u001b[0m\u001b[1;32m     79\u001b[0m     \u001b[1;32mexcept\u001b[0m \u001b[0mRequestException\u001b[0m \u001b[1;32mas\u001b[0m \u001b[0me\u001b[0m\u001b[1;33m:\u001b[0m\u001b[1;33m\u001b[0m\u001b[0m\n\u001b[1;32m     80\u001b[0m         \u001b[1;31m# The message can be an exception. E.g., MaxRetryError.\u001b[0m\u001b[1;33m\u001b[0m\u001b[1;33m\u001b[0m\u001b[0m\n",
      "\u001b[0;32mC:\\Users\\lyang\\Anaconda2\\lib\\site-packages\\requests\\api.pyc\u001b[0m in \u001b[0;36mrequest\u001b[0;34m(method, url, **kwargs)\u001b[0m\n\u001b[1;32m     54\u001b[0m     \u001b[1;31m# By using the 'with' statement we are sure the session is closed, thus we\u001b[0m\u001b[1;33m\u001b[0m\u001b[1;33m\u001b[0m\u001b[0m\n\u001b[1;32m     55\u001b[0m     \u001b[1;31m# avoid leaving sockets open which can trigger a ResourceWarning in some\u001b[0m\u001b[1;33m\u001b[0m\u001b[1;33m\u001b[0m\u001b[0m\n\u001b[0;32m---> 56\u001b[0;31m     \u001b[1;31m# cases, and look like a memory leak in others.\u001b[0m\u001b[1;33m\u001b[0m\u001b[1;33m\u001b[0m\u001b[0m\n\u001b[0m\u001b[1;32m     57\u001b[0m     \u001b[1;32mwith\u001b[0m \u001b[0msessions\u001b[0m\u001b[1;33m.\u001b[0m\u001b[0mSession\u001b[0m\u001b[1;33m(\u001b[0m\u001b[1;33m)\u001b[0m \u001b[1;32mas\u001b[0m \u001b[0msession\u001b[0m\u001b[1;33m:\u001b[0m\u001b[1;33m\u001b[0m\u001b[0m\n\u001b[1;32m     58\u001b[0m         \u001b[1;32mreturn\u001b[0m \u001b[0msession\u001b[0m\u001b[1;33m.\u001b[0m\u001b[0mrequest\u001b[0m\u001b[1;33m(\u001b[0m\u001b[0mmethod\u001b[0m\u001b[1;33m=\u001b[0m\u001b[0mmethod\u001b[0m\u001b[1;33m,\u001b[0m \u001b[0murl\u001b[0m\u001b[1;33m=\u001b[0m\u001b[0murl\u001b[0m\u001b[1;33m,\u001b[0m \u001b[1;33m**\u001b[0m\u001b[0mkwargs\u001b[0m\u001b[1;33m)\u001b[0m\u001b[1;33m\u001b[0m\u001b[0m\n",
      "\u001b[0;32mC:\\Users\\lyang\\Anaconda2\\lib\\site-packages\\requests\\sessions.pyc\u001b[0m in \u001b[0;36mrequest\u001b[0;34m(self, method, url, params, data, headers, cookies, files, auth, timeout, allow_redirects, proxies, hooks, stream, verify, cert, json)\u001b[0m\n\u001b[1;32m    486\u001b[0m         \u001b[1;31m# Create the Request.\u001b[0m\u001b[1;33m\u001b[0m\u001b[1;33m\u001b[0m\u001b[0m\n\u001b[1;32m    487\u001b[0m         req = Request(\n\u001b[0;32m--> 488\u001b[0;31m             \u001b[0mmethod\u001b[0m \u001b[1;33m=\u001b[0m \u001b[0mmethod\u001b[0m\u001b[1;33m.\u001b[0m\u001b[0mupper\u001b[0m\u001b[1;33m(\u001b[0m\u001b[1;33m)\u001b[0m\u001b[1;33m,\u001b[0m\u001b[1;33m\u001b[0m\u001b[0m\n\u001b[0m\u001b[1;32m    489\u001b[0m             \u001b[0murl\u001b[0m \u001b[1;33m=\u001b[0m \u001b[0murl\u001b[0m\u001b[1;33m,\u001b[0m\u001b[1;33m\u001b[0m\u001b[0m\n\u001b[1;32m    490\u001b[0m             \u001b[0mheaders\u001b[0m \u001b[1;33m=\u001b[0m \u001b[0mheaders\u001b[0m\u001b[1;33m,\u001b[0m\u001b[1;33m\u001b[0m\u001b[0m\n",
      "\u001b[0;32mC:\\Users\\lyang\\Anaconda2\\lib\\site-packages\\requests\\sessions.pyc\u001b[0m in \u001b[0;36msend\u001b[0;34m(self, request, **kwargs)\u001b[0m\n\u001b[1;32m    607\u001b[0m         \u001b[1;31m# Guard against that specific failure case.\u001b[0m\u001b[1;33m\u001b[0m\u001b[1;33m\u001b[0m\u001b[0m\n\u001b[1;32m    608\u001b[0m         \u001b[1;32mif\u001b[0m \u001b[0misinstance\u001b[0m\u001b[1;33m(\u001b[0m\u001b[0mrequest\u001b[0m\u001b[1;33m,\u001b[0m \u001b[0mRequest\u001b[0m\u001b[1;33m)\u001b[0m\u001b[1;33m:\u001b[0m\u001b[1;33m\u001b[0m\u001b[0m\n\u001b[0;32m--> 609\u001b[0;31m             \u001b[1;32mraise\u001b[0m \u001b[0mValueError\u001b[0m\u001b[1;33m(\u001b[0m\u001b[1;34m'You can only send PreparedRequests.'\u001b[0m\u001b[1;33m)\u001b[0m\u001b[1;33m\u001b[0m\u001b[0m\n\u001b[0m\u001b[1;32m    610\u001b[0m \u001b[1;33m\u001b[0m\u001b[0m\n\u001b[1;32m    611\u001b[0m         \u001b[1;31m# Set up variables needed for resolve_redirects and dispatching of hooks\u001b[0m\u001b[1;33m\u001b[0m\u001b[1;33m\u001b[0m\u001b[0m\n",
      "\u001b[0;32mC:\\Users\\lyang\\Anaconda2\\lib\\site-packages\\requests\\adapters.pyc\u001b[0m in \u001b[0;36msend\u001b[0;34m(self, request, stream, timeout, verify, cert, proxies)\u001b[0m\n\u001b[1;32m    421\u001b[0m                        \"both timeouts to the same value\".format(timeout))\n\u001b[1;32m    422\u001b[0m                 \u001b[1;32mraise\u001b[0m \u001b[0mValueError\u001b[0m\u001b[1;33m(\u001b[0m\u001b[0merr\u001b[0m\u001b[1;33m)\u001b[0m\u001b[1;33m\u001b[0m\u001b[0m\n\u001b[0;32m--> 423\u001b[0;31m         \u001b[1;32melif\u001b[0m \u001b[0misinstance\u001b[0m\u001b[1;33m(\u001b[0m\u001b[0mtimeout\u001b[0m\u001b[1;33m,\u001b[0m \u001b[0mTimeoutSauce\u001b[0m\u001b[1;33m)\u001b[0m\u001b[1;33m:\u001b[0m\u001b[1;33m\u001b[0m\u001b[0m\n\u001b[0m\u001b[1;32m    424\u001b[0m             \u001b[1;32mpass\u001b[0m\u001b[1;33m\u001b[0m\u001b[0m\n\u001b[1;32m    425\u001b[0m         \u001b[1;32melse\u001b[0m\u001b[1;33m:\u001b[0m\u001b[1;33m\u001b[0m\u001b[0m\n",
      "\u001b[0;32mC:\\Users\\lyang\\Anaconda2\\lib\\site-packages\\requests\\packages\\urllib3\\connectionpool.pyc\u001b[0m in \u001b[0;36murlopen\u001b[0;34m(self, method, url, body, headers, retries, redirect, assert_same_host, timeout, pool_timeout, release_conn, chunked, **response_kw)\u001b[0m\n",
      "\u001b[0;32mC:\\Users\\lyang\\Anaconda2\\lib\\site-packages\\requests\\packages\\urllib3\\connectionpool.pyc\u001b[0m in \u001b[0;36m_make_request\u001b[0;34m(self, conn, method, url, timeout, chunked, **httplib_request_kw)\u001b[0m\n",
      "\u001b[0;32mC:\\Users\\lyang\\Anaconda2\\lib\\site-packages\\requests\\packages\\urllib3\\connectionpool.pyc\u001b[0m in \u001b[0;36m_validate_conn\u001b[0;34m(self, conn)\u001b[0m\n",
      "\u001b[0;32mC:\\Users\\lyang\\Anaconda2\\lib\\site-packages\\requests\\packages\\urllib3\\connection.pyc\u001b[0m in \u001b[0;36mconnect\u001b[0;34m(self)\u001b[0m\n",
      "\u001b[0;32mC:\\Users\\lyang\\Anaconda2\\lib\\site-packages\\requests\\packages\\urllib3\\util\\ssl_.pyc\u001b[0m in \u001b[0;36mssl_wrap_socket\u001b[0;34m(sock, keyfile, certfile, cert_reqs, ca_certs, server_hostname, ssl_version, ciphers, ssl_context, ca_cert_dir)\u001b[0m\n",
      "\u001b[0;32mC:\\Users\\lyang\\Anaconda2\\lib\\site-packages\\requests\\packages\\urllib3\\contrib\\pyopenssl.pyc\u001b[0m in \u001b[0;36mload_verify_locations\u001b[0;34m(self, cafile, capath, cadata)\u001b[0m\n",
      "\u001b[0;32mC:\\Users\\lyang\\Anaconda2\\lib\\site-packages\\OpenSSL\\SSL.pyc\u001b[0m in \u001b[0;36mload_verify_locations\u001b[0;34m(self, cafile, capath)\u001b[0m\n\u001b[1;32m    523\u001b[0m         )\n\u001b[1;32m    524\u001b[0m         \u001b[1;32mif\u001b[0m \u001b[1;32mnot\u001b[0m \u001b[0mload_result\u001b[0m\u001b[1;33m:\u001b[0m\u001b[1;33m\u001b[0m\u001b[0m\n\u001b[0;32m--> 525\u001b[0;31m             \u001b[0m_raise_current_error\u001b[0m\u001b[1;33m(\u001b[0m\u001b[1;33m)\u001b[0m\u001b[1;33m\u001b[0m\u001b[0m\n\u001b[0m\u001b[1;32m    526\u001b[0m \u001b[1;33m\u001b[0m\u001b[0m\n\u001b[1;32m    527\u001b[0m     \u001b[1;32mdef\u001b[0m \u001b[0m_wrap_callback\u001b[0m\u001b[1;33m(\u001b[0m\u001b[0mself\u001b[0m\u001b[1;33m,\u001b[0m \u001b[0mcallback\u001b[0m\u001b[1;33m)\u001b[0m\u001b[1;33m:\u001b[0m\u001b[1;33m\u001b[0m\u001b[0m\n",
      "\u001b[0;32mC:\\Users\\lyang\\Anaconda2\\lib\\site-packages\\OpenSSL\\_util.pyc\u001b[0m in \u001b[0;36mexception_from_error_queue\u001b[0;34m(exception_type)\u001b[0m\n\u001b[1;32m     46\u001b[0m             text(lib.ERR_reason_error_string(error))))\n\u001b[1;32m     47\u001b[0m \u001b[1;33m\u001b[0m\u001b[0m\n\u001b[0;32m---> 48\u001b[0;31m     \u001b[1;32mraise\u001b[0m \u001b[0mexception_type\u001b[0m\u001b[1;33m(\u001b[0m\u001b[0merrors\u001b[0m\u001b[1;33m)\u001b[0m\u001b[1;33m\u001b[0m\u001b[0m\n\u001b[0m\u001b[1;32m     49\u001b[0m \u001b[1;33m\u001b[0m\u001b[0m\n\u001b[1;32m     50\u001b[0m \u001b[1;33m\u001b[0m\u001b[0m\n",
      "\u001b[0;31mError\u001b[0m: [('system library', 'fopen', 'No such file or directory'), ('BIO routines', 'BIO_new_file', 'no such file'), ('x509 certificate routines', 'X509_load_cert_crl_file', 'system lib')]"
     ],
     "output_type": "error"
    }
   ],
   "source": [
    "py.iplot(data)"
   ]
  },
  {
   "cell_type": "code",
   "execution_count": 265,
   "metadata": {
    "collapsed": false
   },
   "outputs": [
    {
     "name": "stdout",
     "output_type": "stream",
     "text": [
      "Requirement already up-to-date: plotly in c:\\users\\lyang\\anaconda2\\lib\\site-packages\n",
      "Collecting requests (from plotly)\n",
      "  Downloading requests-2.17.3-py2.py3-none-any.whl (87kB)\n",
      "Requirement already up-to-date: decorator>=4.0.6 in c:\\users\\lyang\\anaconda2\\lib\\site-packages (from plotly)\n",
      "Collecting pytz (from plotly)\n",
      "  Downloading pytz-2017.2-py2.py3-none-any.whl (484kB)\n",
      "Collecting nbformat>=4.2 (from plotly)\n",
      "  Downloading nbformat-4.3.0-py2.py3-none-any.whl (154kB)\n",
      "Requirement already up-to-date: six in c:\\users\\lyang\\anaconda2\\lib\\site-packages (from plotly)\n",
      "Collecting idna<2.6,>=2.5 (from requests->plotly)\n",
      "  Downloading idna-2.5-py2.py3-none-any.whl (55kB)\n",
      "Collecting urllib3<1.22,>=1.21.1 (from requests->plotly)\n",
      "  Downloading urllib3-1.21.1-py2.py3-none-any.whl (131kB)\n",
      "Collecting chardet<3.1.0,>=3.0.2 (from requests->plotly)\n",
      "  Downloading chardet-3.0.4-py2.py3-none-any.whl (133kB)\n",
      "Collecting certifi>=2017.4.17 (from requests->plotly)\n",
      "  Downloading certifi-2017.4.17-py2.py3-none-any.whl (375kB)\n",
      "Collecting traitlets>=4.1 (from nbformat>=4.2->plotly)\n",
      "  Downloading traitlets-4.3.2-py2.py3-none-any.whl (74kB)\n",
      "Collecting jupyter-core (from nbformat>=4.2->plotly)\n",
      "  Downloading jupyter_core-4.3.0-py2.py3-none-any.whl (76kB)\n",
      "Collecting ipython-genutils (from nbformat>=4.2->plotly)\n",
      "  Downloading ipython_genutils-0.2.0-py2.py3-none-any.whl\n",
      "Collecting jsonschema!=2.5.0,>=2.4 (from nbformat>=4.2->plotly)\n",
      "  Downloading jsonschema-2.6.0-py2.py3-none-any.whl\n",
      "Requirement already up-to-date: enum34; python_version == \"2.7\" in c:\\users\\lyang\\anaconda2\\lib\\site-packages (from traitlets>=4.1->nbformat>=4.2->plotly)\n",
      "Requirement already up-to-date: functools32; python_version == \"2.7\" in c:\\users\\lyang\\anaconda2\\lib\\site-packages (from jsonschema!=2.5.0,>=2.4->nbformat>=4.2->plotly)\n",
      "Installing collected packages: idna, urllib3, chardet, certifi, requests, pytz, ipython-genutils, traitlets, jupyter-core, jsonschema, nbformat\n",
      "  Found existing installation: idna 2.2\n",
      "    Uninstalling idna-2.2:\n",
      "      Successfully uninstalled idna-2.2\n",
      "  Found existing installation: chardet 2.3.0\n",
      "    Uninstalling chardet-2.3.0:\n",
      "      Successfully uninstalled chardet-2.3.0\n",
      "  Found existing installation: requests 2.12.4\n",
      "    Uninstalling requests-2.12.4:\n",
      "      Successfully uninstalled requests-2.12.4\n",
      "  Found existing installation: pytz 2016.10\n",
      "    Uninstalling pytz-2016.10:\n",
      "      Successfully uninstalled pytz-2016.10\n",
      "  Found existing installation: ipython-genutils 0.1.0\n",
      "    Uninstalling ipython-genutils-0.1.0:\n",
      "      Successfully uninstalled ipython-genutils-0.1.0\n",
      "  Found existing installation: traitlets 4.3.1\n",
      "    Uninstalling traitlets-4.3.1:\n",
      "      Successfully uninstalled traitlets-4.3.1\n",
      "  Found existing installation: jupyter-core 4.2.1\n",
      "    Uninstalling jupyter-core-4.2.1:\n",
      "      Successfully uninstalled jupyter-core-4.2.1\n",
      "  Found existing installation: jsonschema 2.5.1\n",
      "    Uninstalling jsonschema-2.5.1:\n",
      "      Successfully uninstalled jsonschema-2.5.1\n",
      "  Found existing installation: nbformat 4.2.0\n",
      "    Uninstalling nbformat-4.2.0:\n",
      "      Successfully uninstalled nbformat-4.2.0\n",
      "Successfully installed certifi-2017.4.17 chardet-3.0.4 idna-2.5 ipython-genutils-0.2.0 jsonschema-2.6.0 jupyter-core-4.3.0 nbformat-4.3.0 pytz-2017.2 requests-2.17.3 traitlets-4.3.2 urllib3-1.21.1\n"
     ]
    },
    {
     "name": "stderr",
     "output_type": "stream",
     "text": [
      "    DEPRECATION: Uninstalling a distutils installed project (pytz) has been deprecated and will be removed in a future version. This is due to the fact that uninstalling a distutils project will only partially uninstall the project.\n",
      "    DEPRECATION: Uninstalling a distutils installed project (ipython-genutils) has been deprecated and will be removed in a future version. This is due to the fact that uninstalling a distutils project will only partially uninstall the project.\n",
      "    DEPRECATION: Uninstalling a distutils installed project (traitlets) has been deprecated and will be removed in a future version. This is due to the fact that uninstalling a distutils project will only partially uninstall the project.\n",
      "    DEPRECATION: Uninstalling a distutils installed project (jupyter-core) has been deprecated and will be removed in a future version. This is due to the fact that uninstalling a distutils project will only partially uninstall the project.\n",
      "    DEPRECATION: Uninstalling a distutils installed project (nbformat) has been deprecated and will be removed in a future version. This is due to the fact that uninstalling a distutils project will only partially uninstall the project.\n"
     ]
    }
   ],
   "source": [
    "!pip install plotly --upgrade"
   ]
  },
  {
   "cell_type": "code",
   "execution_count": 277,
   "metadata": {
    "collapsed": false
   },
   "outputs": [],
   "source": [
    "import plotly \n",
    "plotly.tools.set_credentials_file(username='LillianY', api_key='DdJxuB7Pa135llrJhuxh')"
   ]
  },
  {
   "cell_type": "code",
   "execution_count": 267,
   "metadata": {
    "collapsed": true
   },
   "outputs": [],
   "source": [
    "import plotly \n",
    "plotly.tools.set_config_file(world_readable=False,\n",
    "                             sharing='private')"
   ]
  },
  {
   "cell_type": "code",
   "execution_count": 270,
   "metadata": {
    "collapsed": false
   },
   "outputs": [],
   "source": [
    "import plotly.plotly as py\n",
    "from plotly.graph_objs import *"
   ]
  },
  {
   "cell_type": "code",
   "execution_count": 271,
   "metadata": {
    "collapsed": false
   },
   "outputs": [
    {
     "name": "stdout",
     "output_type": "stream",
     "text": [
      "Help on function plot in module plotly.plotly.plotly:\n",
      "\n",
      "plot(figure_or_data, validate=True, **plot_options)\n",
      "    Create a unique url for this plot in Plotly and optionally open url.\n",
      "    \n",
      "    plot_options keyword agruments:\n",
      "    filename (string) -- the name that will be associated with this figure\n",
      "    fileopt ('new' | 'overwrite' | 'extend' | 'append') -- 'new' creates a\n",
      "        'new': create a new, unique url for this plot\n",
      "        'overwrite': overwrite the file associated with `filename` with this\n",
      "        'extend': add additional numbers (data) to existing traces\n",
      "        'append': add additional traces to existing data lists\n",
      "    auto_open (default=True) -- Toggle browser options\n",
      "        True: open this plot in a new browser tab\n",
      "        False: do not open plot in the browser, but do return the unique url\n",
      "    sharing ('public' | 'private' | 'secret') -- Toggle who can view this\n",
      "                                                  graph\n",
      "        - 'public': Anyone can view this graph. It will appear in your profile\n",
      "                    and can appear in search engines. You do not need to be\n",
      "                    logged in to Plotly to view this chart.\n",
      "        - 'private': Only you can view this plot. It will not appear in the\n",
      "                     Plotly feed, your profile, or search engines. You must be\n",
      "                     logged in to Plotly to view this graph. You can privately\n",
      "                     share this graph with other Plotly users in your online\n",
      "                     Plotly account and they will need to be logged in to\n",
      "                     view this plot.\n",
      "        - 'secret': Anyone with this secret link can view this chart. It will\n",
      "                    not appear in the Plotly feed, your profile, or search\n",
      "                    engines. If it is embedded inside a webpage or an IPython\n",
      "                    notebook, anybody who is viewing that page will be able to\n",
      "                    view the graph. You do not need to be logged in to view\n",
      "                    this plot.\n",
      "    world_readable (default=True) -- Deprecated: use \"sharing\".\n",
      "                                     Make this figure private/public\n",
      "\n"
     ]
    }
   ],
   "source": [
    "help(py.plot)"
   ]
  },
  {
   "cell_type": "code",
   "execution_count": 272,
   "metadata": {
    "collapsed": false
   },
   "outputs": [
    {
     "data": {
      "text/html": [
       "<iframe id=\"igraph\" scrolling=\"no\" style=\"border:none;\" seamless=\"seamless\" src=\"https://plot.ly/~cufflinks/8.embed\" height=\"525\" width=\"100%\"></iframe>"
      ],
      "text/plain": [
       "<plotly.tools.PlotlyDisplay object>"
      ]
     },
     "execution_count": 272,
     "metadata": {},
     "output_type": "execute_result"
    }
   ],
   "source": [
    "import plotly.tools as tls\n",
    "tls.embed('https://plot.ly/~cufflinks/8')"
   ]
  },
  {
   "cell_type": "code",
   "execution_count": null,
   "metadata": {
    "collapsed": true
   },
   "outputs": [],
   "source": [
    ""
   ]
  }
 ],
 "metadata": {
  "kernelspec": {
   "display_name": "Python 2",
   "language": "python",
   "name": "python2"
  },
  "language_info": {
   "codemirror_mode": {
    "name": "ipython",
    "version": 2.0
   },
   "file_extension": ".py",
   "mimetype": "text/x-python",
   "name": "python",
   "nbconvert_exporter": "python",
   "pygments_lexer": "ipython2",
   "version": "2.7.13"
  }
 },
 "nbformat": 4,
 "nbformat_minor": 0
}