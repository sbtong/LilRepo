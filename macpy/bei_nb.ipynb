{
 "cells": [
  {
   "cell_type": "code",
   "execution_count": 235,
   "metadata": {
    "collapsed": false
   },
   "outputs": [
    {
     "data": {
      "text/plain": [
       "'C:\\\\Users\\\\vianand\\\\workspace\\\\Contentdev-MAC\\\\macpy'"
      ]
     },
     "execution_count": 235,
     "metadata": {},
     "output_type": "execute_result"
    }
   ],
   "source": [
    "pwd"
   ]
  },
  {
   "cell_type": "code",
   "execution_count": 236,
   "metadata": {
    "collapsed": false
   },
   "outputs": [
    {
     "name": "stdout",
     "output_type": "stream",
     "text": [
      "\n",
      "running via ipython -> not running continously\n"
     ]
    }
   ],
   "source": [
    "%run CurveGenerator.py\n",
    "%run bei_curve.py"
   ]
  },
  {
   "cell_type": "code",
   "execution_count": 237,
   "metadata": {
    "collapsed": true
   },
   "outputs": [],
   "source": [
    "pd.set_option('notebook_repr_html', True)\n",
    "pd.set_option('precision', 10)\n",
    "pd.set_option('max_columns', 500)\n",
    "pd.set_option('max_rows', 15000)\n",
    "pd.set_option('max_colwidth', 150)\n",
    "pd.set_option('column_space', 150)\n",
    "pd.set_option('use_inf_as_null', True)"
   ]
  },
  {
   "cell_type": "code",
   "execution_count": 238,
   "metadata": {
    "collapsed": true
   },
   "outputs": [],
   "source": [
    "environment = 'DEV'"
   ]
  },
  {
   "cell_type": "code",
   "execution_count": 239,
   "metadata": {
    "collapsed": false
   },
   "outputs": [
    {
     "ename": "NameError",
     "evalue": "global name 'getAnalysisConfigSection' is not defined",
     "output_type": "error",
     "traceback": [
      "\u001b[1;31m---------------------------------------------------------------------------\u001b[0m",
      "\u001b[1;31mNameError\u001b[0m                                 Traceback (most recent call last)",
      "\u001b[1;32m<ipython-input-239-d54256f7ba1a>\u001b[0m in \u001b[0;36m<module>\u001b[1;34m()\u001b[0m\n\u001b[0;32m      1\u001b[0m bei_instance = BEI(curve_short_name = 'DE.EUR.BEI.ZC', start_date = '2016-05-01', end_date = '2016-05-02',\n\u001b[1;32m----> 2\u001b[1;33m                    \u001b[0menvironment\u001b[0m\u001b[1;33m=\u001b[0m\u001b[0menvironment\u001b[0m\u001b[1;33m\u001b[0m\u001b[0m\n\u001b[0m\u001b[0;32m      3\u001b[0m                   )\n",
      "\u001b[1;32mC:\\Users\\vianand\\workspace\\Contentdev-MAC\\macpy\\bei_curve.py\u001b[0m in \u001b[0;36m__init__\u001b[1;34m(self, curve_short_name, start_date, end_date, environment, use_node_quote_final)\u001b[0m\n\u001b[0;32m    100\u001b[0m \u001b[1;32mclass\u001b[0m \u001b[0mBEI\u001b[0m\u001b[1;33m(\u001b[0m\u001b[0mDatabaseExtract\u001b[0m\u001b[1;33m)\u001b[0m\u001b[1;33m:\u001b[0m\u001b[1;33m\u001b[0m\u001b[0m\n\u001b[0;32m    101\u001b[0m                 \u001b[1;32mdef\u001b[0m \u001b[0m__init__\u001b[0m\u001b[1;33m(\u001b[0m\u001b[0mself\u001b[0m\u001b[1;33m,\u001b[0m \u001b[0mcurve_short_name\u001b[0m\u001b[1;33m,\u001b[0m \u001b[0mstart_date\u001b[0m\u001b[1;33m,\u001b[0m \u001b[0mend_date\u001b[0m\u001b[1;33m,\u001b[0m \u001b[0menvironment\u001b[0m\u001b[1;33m,\u001b[0m \u001b[0muse_node_quote_final\u001b[0m \u001b[1;33m=\u001b[0m \u001b[0mFalse\u001b[0m\u001b[1;33m)\u001b[0m\u001b[1;33m:\u001b[0m\u001b[1;33m\u001b[0m\u001b[0m\n\u001b[1;32m--> 102\u001b[1;33m                         \u001b[0mmktDBInfo\u001b[0m\u001b[1;33m,\u001b[0m \u001b[0mmodelDBInfo\u001b[0m\u001b[1;33m,\u001b[0m \u001b[0mmacDBInfo\u001b[0m \u001b[1;33m=\u001b[0m \u001b[0mcreate_database_connections\u001b[0m\u001b[1;33m(\u001b[0m\u001b[0menvironment\u001b[0m\u001b[1;33m)\u001b[0m\u001b[1;33m\u001b[0m\u001b[0m\n\u001b[0m\u001b[0;32m    103\u001b[0m                         \u001b[0mself\u001b[0m\u001b[1;33m.\u001b[0m\u001b[0mcurve_queries\u001b[0m \u001b[1;33m=\u001b[0m \u001b[0mBEI_Database_Queries\u001b[0m\u001b[1;33m(\u001b[0m\u001b[0mmktDBInfo\u001b[0m\u001b[1;33m,\u001b[0m \u001b[0mmodelDBInfo\u001b[0m\u001b[1;33m,\u001b[0m \u001b[0mmacDBInfo\u001b[0m\u001b[1;33m,\u001b[0m \u001b[0muse_node_quote_final\u001b[0m\u001b[1;33m)\u001b[0m\u001b[1;33m\u001b[0m\u001b[0m\n\u001b[0;32m    104\u001b[0m                         \u001b[0mself\u001b[0m\u001b[1;33m.\u001b[0m\u001b[0mcurve_short_name\u001b[0m \u001b[1;33m=\u001b[0m \u001b[0mcurve_short_name\u001b[0m\u001b[1;33m\u001b[0m\u001b[0m\n",
      "\u001b[1;32mC:\\Users\\vianand\\workspace\\Contentdev-MAC\\macpy\\bei_curve.py\u001b[0m in \u001b[0;36mcreate_database_connections\u001b[1;34m(environment)\u001b[0m\n\u001b[0;32m     91\u001b[0m         \u001b[0mconfigFile\u001b[0m \u001b[1;33m=\u001b[0m \u001b[0mopen\u001b[0m\u001b[1;33m(\u001b[0m\u001b[0mpwd\u001b[0m\u001b[1;33m+\u001b[0m\u001b[1;34m\"/production.config\"\u001b[0m\u001b[1;33m,\u001b[0m\u001b[1;34m'r'\u001b[0m\u001b[1;33m)\u001b[0m\u001b[1;33m\u001b[0m\u001b[0m\n\u001b[0;32m     92\u001b[0m         \u001b[0mconfiguration\u001b[0m \u001b[1;33m=\u001b[0m \u001b[0mUtilities\u001b[0m\u001b[1;33m.\u001b[0m\u001b[0mloadConfigFile\u001b[0m\u001b[1;33m(\u001b[0m\u001b[0mconfigFile\u001b[0m\u001b[1;33m)\u001b[0m\u001b[1;33m\u001b[0m\u001b[0m\n\u001b[1;32m---> 93\u001b[1;33m         \u001b[0msectionID\u001b[0m \u001b[1;33m=\u001b[0m \u001b[0mgetAnalysisConfigSection\u001b[0m\u001b[1;33m(\u001b[0m\u001b[0menvironment\u001b[0m\u001b[1;33m)\u001b[0m\u001b[1;33m\u001b[0m\u001b[0m\n\u001b[0m\u001b[0;32m     94\u001b[0m         \u001b[0menvInfoMap\u001b[0m \u001b[1;33m=\u001b[0m \u001b[0mUtilities\u001b[0m\u001b[1;33m.\u001b[0m\u001b[0mgetConfigSectionAsMap\u001b[0m\u001b[1;33m(\u001b[0m\u001b[0mconfiguration\u001b[0m\u001b[1;33m,\u001b[0m \u001b[0msectionID\u001b[0m\u001b[1;33m)\u001b[0m\u001b[1;33m\u001b[0m\u001b[0m\n\u001b[0;32m     95\u001b[0m         \u001b[0mmktDBInfo\u001b[0m \u001b[1;33m=\u001b[0m \u001b[0mgetOracleDatabaseInfo\u001b[0m\u001b[1;33m(\u001b[0m\u001b[0mUtilities\u001b[0m\u001b[1;33m.\u001b[0m\u001b[0mgetConfigSectionAsMap\u001b[0m\u001b[1;33m(\u001b[0m\u001b[0mconfiguration\u001b[0m\u001b[1;33m,\u001b[0m \u001b[0menvInfoMap\u001b[0m\u001b[1;33m.\u001b[0m\u001b[0mget\u001b[0m\u001b[1;33m(\u001b[0m\u001b[1;34m'equitymarketdb'\u001b[0m\u001b[1;33m,\u001b[0m \u001b[0mNone\u001b[0m\u001b[1;33m)\u001b[0m\u001b[1;33m)\u001b[0m\u001b[1;33m)\u001b[0m\u001b[1;33m\u001b[0m\u001b[0m\n",
      "\u001b[1;31mNameError\u001b[0m: global name 'getAnalysisConfigSection' is not defined"
     ]
    }
   ],
   "source": [
    "bei_instance = BEI(curve_short_name = 'DE.EUR.BEI.ZC', start_date = '2016-05-01', end_date = '2016-05-02',\n",
    "                   environment=environment\n",
    "                  )"
   ]
  },
  {
   "cell_type": "code",
   "execution_count": 226,
   "metadata": {
    "collapsed": false,
    "scrolled": true
   },
   "outputs": [],
   "source": [
    "df = pd.DataFrame(bei_instance.extract_from_db())"
   ]
  },
  {
   "cell_type": "code",
   "execution_count": 227,
   "metadata": {
    "collapsed": false,
    "scrolled": true
   },
   "outputs": [
    {
     "data": {
      "text/html": [
       "<div style=\"max-height:1000px;max-width:1500px;overflow:auto;\">\n",
       "<table border=\"1\" class=\"dataframe\">\n",
       "  <thead>\n",
       "    <tr style=\"text-align: right;\">\n",
       "      <th></th>\n",
       "      <th>CompFreqCode</th>\n",
       "      <th>CurveShortName</th>\n",
       "      <th>DebtISOCurCode</th>\n",
       "      <th>DebtIssTypeCode</th>\n",
       "      <th>DomSettDays</th>\n",
       "      <th>FrstCpnDate</th>\n",
       "      <th>FrstCpnRate</th>\n",
       "      <th>IdxLkbckNum</th>\n",
       "      <th>IdxLkbckTypeCode</th>\n",
       "      <th>InitAccDate</th>\n",
       "      <th>InstrCode</th>\n",
       "      <th>IssName</th>\n",
       "      <th>LastCpnDate</th>\n",
       "      <th>MatDate</th>\n",
       "      <th>MatStdYld</th>\n",
       "      <th>NomTermToMat</th>\n",
       "      <th>PayFmlIdxName</th>\n",
       "      <th>PayFmlNumVal</th>\n",
       "      <th>PayFmlOperator</th>\n",
       "      <th>Price</th>\n",
       "      <th>PriceInclAccrIntFlg</th>\n",
       "      <th>TimeInYears</th>\n",
       "      <th>TradeDate</th>\n",
       "      <th>coupon_leg_num</th>\n",
       "      <th>day_count_method</th>\n",
       "      <th>day_type</th>\n",
       "      <th>description</th>\n",
       "      <th>ex_div_days</th>\n",
       "      <th>face_value</th>\n",
       "      <th>holiday_calendar</th>\n",
       "      <th>index_factor</th>\n",
       "      <th>notional</th>\n",
       "      <th>quote_type</th>\n",
       "      <th>settlement_date</th>\n",
       "    </tr>\n",
       "  </thead>\n",
       "  <tbody>\n",
       "    <tr>\n",
       "      <th>0</th>\n",
       "      <td> 1</td>\n",
       "      <td> DE.EUR.BEI.ZC</td>\n",
       "      <td> EUR</td>\n",
       "      <td>  BND</td>\n",
       "      <td> 2</td>\n",
       "      <td> 2012-04-15</td>\n",
       "      <td> 0.0075</td>\n",
       "      <td> 0</td>\n",
       "      <td> c</td>\n",
       "      <td> 2011-04-15</td>\n",
       "      <td> 2427485</td>\n",
       "      <td> 0.75% IDX Lkd DUE 15 APR 2018</td>\n",
       "      <td> 2017-04-15</td>\n",
       "      <td> 2018-04-15</td>\n",
       "      <td>-1.179425</td>\n",
       "      <td>  1.952087611</td>\n",
       "      <td> HICPEXTD</td>\n",
       "      <td> 94.27625</td>\n",
       "      <td> /</td>\n",
       "      <td> 103.825</td>\n",
       "      <td> n</td>\n",
       "      <td>  7.000684463</td>\n",
       "      <td> 2016-05-02</td>\n",
       "      <td> 1</td>\n",
       "      <td> ACT/ACT</td>\n",
       "      <td> Business Days</td>\n",
       "      <td> Annually</td>\n",
       "      <td> None</td>\n",
       "      <td> 100</td>\n",
       "      <td> TARGET/TARGET2</td>\n",
       "      <td> 1</td>\n",
       "      <td> 100</td>\n",
       "      <td> real</td>\n",
       "      <td> 2016-05-04</td>\n",
       "    </tr>\n",
       "    <tr>\n",
       "      <th>1</th>\n",
       "      <td> 1</td>\n",
       "      <td> DE.EUR.BEI.ZC</td>\n",
       "      <td> EUR</td>\n",
       "      <td> BUND</td>\n",
       "      <td> 2</td>\n",
       "      <td> 2010-04-15</td>\n",
       "      <td> 0.0175</td>\n",
       "      <td> 0</td>\n",
       "      <td> c</td>\n",
       "      <td> 2009-04-15</td>\n",
       "      <td> 1859419</td>\n",
       "      <td> 1.75% IDX Lkd DUE 15 APR 2020</td>\n",
       "      <td> 2019-04-15</td>\n",
       "      <td> 2020-04-15</td>\n",
       "      <td>-1.155079</td>\n",
       "      <td>  3.953456537</td>\n",
       "      <td> HICPEXTD</td>\n",
       "      <td> 91.45685</td>\n",
       "      <td> /</td>\n",
       "      <td> 111.805</td>\n",
       "      <td> n</td>\n",
       "      <td> 11.000684463</td>\n",
       "      <td> 2016-05-02</td>\n",
       "      <td> 1</td>\n",
       "      <td> ACT/ACT</td>\n",
       "      <td> Business Days</td>\n",
       "      <td> Annually</td>\n",
       "      <td> None</td>\n",
       "      <td> 100</td>\n",
       "      <td> TARGET/TARGET2</td>\n",
       "      <td> 1</td>\n",
       "      <td> 100</td>\n",
       "      <td> real</td>\n",
       "      <td> 2016-05-04</td>\n",
       "    </tr>\n",
       "    <tr>\n",
       "      <th>2</th>\n",
       "      <td> 1</td>\n",
       "      <td> DE.EUR.BEI.ZC</td>\n",
       "      <td> EUR</td>\n",
       "      <td> BUND</td>\n",
       "      <td> 2</td>\n",
       "      <td> 2016-04-15</td>\n",
       "      <td> 0.0010</td>\n",
       "      <td> 0</td>\n",
       "      <td> c</td>\n",
       "      <td> 2015-03-12</td>\n",
       "      <td> 3813620</td>\n",
       "      <td>  0.1% IDX LKD DUE 15 APR 2026</td>\n",
       "      <td> 2025-04-15</td>\n",
       "      <td> 2026-04-15</td>\n",
       "      <td>-0.810335</td>\n",
       "      <td>  9.952087611</td>\n",
       "      <td> HICPEXTD</td>\n",
       "      <td> 99.41903</td>\n",
       "      <td> /</td>\n",
       "      <td> 109.471</td>\n",
       "      <td> n</td>\n",
       "      <td> 11.093771389</td>\n",
       "      <td> 2016-05-02</td>\n",
       "      <td> 1</td>\n",
       "      <td> ACT/ACT</td>\n",
       "      <td> Business Days</td>\n",
       "      <td> Annually</td>\n",
       "      <td> None</td>\n",
       "      <td> 100</td>\n",
       "      <td> TARGET/TARGET2</td>\n",
       "      <td> 1</td>\n",
       "      <td> 100</td>\n",
       "      <td> real</td>\n",
       "      <td> 2016-05-04</td>\n",
       "    </tr>\n",
       "    <tr>\n",
       "      <th>3</th>\n",
       "      <td> 1</td>\n",
       "      <td> DE.EUR.BEI.ZC</td>\n",
       "      <td> EUR</td>\n",
       "      <td> BUND</td>\n",
       "      <td> 2</td>\n",
       "      <td> 2016-04-15</td>\n",
       "      <td> 0.0010</td>\n",
       "      <td> 0</td>\n",
       "      <td> c</td>\n",
       "      <td> 2015-04-15</td>\n",
       "      <td> 3944323</td>\n",
       "      <td>    0.10% BUND DUE 15 APR 2046</td>\n",
       "      <td> 2045-04-15</td>\n",
       "      <td> 2046-04-15</td>\n",
       "      <td>-0.390173</td>\n",
       "      <td> 29.952087611</td>\n",
       "      <td> HICPEXTD</td>\n",
       "      <td> 98.67766</td>\n",
       "      <td> /</td>\n",
       "      <td> 115.604</td>\n",
       "      <td> n</td>\n",
       "      <td> 31.000684463</td>\n",
       "      <td> 2016-05-02</td>\n",
       "      <td> 1</td>\n",
       "      <td> ACT/ACT</td>\n",
       "      <td> Business Days</td>\n",
       "      <td> Annually</td>\n",
       "      <td> None</td>\n",
       "      <td> 100</td>\n",
       "      <td> TARGET/TARGET2</td>\n",
       "      <td> 1</td>\n",
       "      <td> 100</td>\n",
       "      <td> real</td>\n",
       "      <td> 2016-05-04</td>\n",
       "    </tr>\n",
       "  </tbody>\n",
       "</table>\n",
       "</div>"
      ],
      "text/plain": [
       "   CompFreqCode CurveShortName DebtISOCurCode DebtIssTypeCode  DomSettDays  \\\n",
       "0             1  DE.EUR.BEI.ZC            EUR             BND            2   \n",
       "1             1  DE.EUR.BEI.ZC            EUR            BUND            2   \n",
       "2             1  DE.EUR.BEI.ZC            EUR            BUND            2   \n",
       "3             1  DE.EUR.BEI.ZC            EUR            BUND            2   \n",
       "\n",
       "  FrstCpnDate  FrstCpnRate  IdxLkbckNum IdxLkbckTypeCode InitAccDate  \\\n",
       "0  2012-04-15       0.0075            0                c  2011-04-15   \n",
       "1  2010-04-15       0.0175            0                c  2009-04-15   \n",
       "2  2016-04-15       0.0010            0                c  2015-03-12   \n",
       "3  2016-04-15       0.0010            0                c  2015-04-15   \n",
       "\n",
       "   InstrCode                        IssName LastCpnDate     MatDate  \\\n",
       "0    2427485  0.75% IDX Lkd DUE 15 APR 2018  2017-04-15  2018-04-15   \n",
       "1    1859419  1.75% IDX Lkd DUE 15 APR 2020  2019-04-15  2020-04-15   \n",
       "2    3813620   0.1% IDX LKD DUE 15 APR 2026  2025-04-15  2026-04-15   \n",
       "3    3944323     0.10% BUND DUE 15 APR 2046  2045-04-15  2046-04-15   \n",
       "\n",
       "   MatStdYld  NomTermToMat PayFmlIdxName  PayFmlNumVal PayFmlOperator  \\\n",
       "0  -1.179425   1.952087611      HICPEXTD      94.27625              /   \n",
       "1  -1.155079   3.953456537      HICPEXTD      91.45685              /   \n",
       "2  -0.810335   9.952087611      HICPEXTD      99.41903              /   \n",
       "3  -0.390173  29.952087611      HICPEXTD      98.67766              /   \n",
       "\n",
       "     Price PriceInclAccrIntFlg   TimeInYears   TradeDate  coupon_leg_num  \\\n",
       "0  103.825                   n   7.000684463  2016-05-02               1   \n",
       "1  111.805                   n  11.000684463  2016-05-02               1   \n",
       "2  109.471                   n  11.093771389  2016-05-02               1   \n",
       "3  115.604                   n  31.000684463  2016-05-02               1   \n",
       "\n",
       "  day_count_method       day_type description ex_div_days  face_value  \\\n",
       "0          ACT/ACT  Business Days    Annually        None         100   \n",
       "1          ACT/ACT  Business Days    Annually        None         100   \n",
       "2          ACT/ACT  Business Days    Annually        None         100   \n",
       "3          ACT/ACT  Business Days    Annually        None         100   \n",
       "\n",
       "  holiday_calendar  index_factor  notional quote_type settlement_date  \n",
       "0   TARGET/TARGET2             1       100       real      2016-05-04  \n",
       "1   TARGET/TARGET2             1       100       real      2016-05-04  \n",
       "2   TARGET/TARGET2             1       100       real      2016-05-04  \n",
       "3   TARGET/TARGET2             1       100       real      2016-05-04  "
      ]
     },
     "execution_count": 227,
     "metadata": {},
     "output_type": "execute_result"
    }
   ],
   "source": [
    "df"
   ]
  },
  {
   "cell_type": "code",
   "execution_count": 50,
   "metadata": {
    "collapsed": true
   },
   "outputs": [],
   "source": [
    "import xmltodict"
   ]
  },
  {
   "cell_type": "code",
   "execution_count": 58,
   "metadata": {
    "collapsed": false
   },
   "outputs": [
    {
     "data": {
      "text/plain": [
       "OrderedDict([(u'head', OrderedDict([(u'IndexName', u'HICPEXTD'), (u'EJVBenchmarkCurveId', u'289')]))])"
      ]
     },
     "execution_count": 58,
     "metadata": {},
     "output_type": "execute_result"
    }
   ],
   "source": [
    "xmltodict.parse(\"<?xml version='1.0'?><head><IndexName>HICPEXTD</IndexName><EJVBenchmarkCurveId>289</EJVBenchmarkCurveId></head>\")"
   ]
  },
  {
   "cell_type": "code",
   "execution_count": null,
   "metadata": {
    "collapsed": true
   },
   "outputs": [],
   "source": []
  }
 ],
 "metadata": {
  "kernelspec": {
   "display_name": "Python 2",
   "language": "python",
   "name": "python2"
  },
  "language_info": {
   "codemirror_mode": {
    "name": "ipython",
    "version": 2
   },
   "file_extension": ".py",
   "mimetype": "text/x-python",
   "name": "python",
   "nbconvert_exporter": "python",
   "pygments_lexer": "ipython2",
   "version": "2.7.8"
  }
 },
 "nbformat": 4,
 "nbformat_minor": 0
}
