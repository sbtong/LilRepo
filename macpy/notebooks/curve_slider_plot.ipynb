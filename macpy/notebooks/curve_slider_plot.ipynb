{
 "cells": [
  {
   "cell_type": "code",
   "execution_count": null,
   "metadata": {
    "collapsed": false
   },
   "outputs": [],
   "source": [
    "import numpy as np\n",
    "import plotly\n",
    "import macpy\n",
    "import macpy.utils.database as db\n",
    "import plotly\n",
    "import plotly.plotly as py\n",
    "#print plotly.__version__            # version 1.9.4 required\n",
    "plotly.offline.init_notebook_mode() # run at the start of every notebook\n",
    "import plotly.graph_objs as go\n",
    "from plotly.offline import plot\n",
    "from plotly.graph_objs import Surface\n",
    "import cufflinks\n",
    "import plotly_layout as pl\n",
    "from plotly import tools\n",
    "\n",
    "import macpy.visualization.curve_slider as cs\n",
    "\n",
    "import macpy.next_gen_curve as ngc\n",
    "import pandas as pd # isn't pandas already imported??\n",
    "\n",
    "#stuff for R2py library: calling R-functions through python\n",
    "import rpy2.robjects as robjects\n",
    "import rpy2.robjects.numpy2ri\n",
    "rpy2.robjects.numpy2ri.activate()\n",
    "\n",
    "plotly.offline.init_notebook_mode()"
   ]
  },
  {
   "cell_type": "code",
   "execution_count": null,
   "metadata": {
    "collapsed": false
   },
   "outputs": [],
   "source": [
    "if plotly.__version__ != '1.13.0':\n",
    "    print 'ERROR: the animations only work with Plotly version 1.13.0'\n",
    "    print 'run: pip install plotly==1.13.0'\n",
    "else:\n",
    "    print 'Version check OK'"
   ]
  },
  {
   "cell_type": "code",
   "execution_count": null,
   "metadata": {
    "collapsed": false
   },
   "outputs": [],
   "source": [
    "#dataset = pd.read_csv('C:/ContentDev-MAC/macpy/visualization/cs_data_fit.csv')\n",
    "#dataset = pd.read_clipboard()\n",
    "dataset = pd.read_csv('C:/ContentDev-MAC/macpy/visualization/cs_data_time_VEGV_1yRate.csv')\n",
    "dataset.TradeDate = dataset.TradeDate.apply(lambda x: pd.to_datetime(x))"
   ]
  },
  {
   "cell_type": "code",
   "execution_count": null,
   "metadata": {
    "collapsed": false
   },
   "outputs": [],
   "source": [
    "cs.curve_slider_time(dataset,'VEGV')"
   ]
  },
  {
   "cell_type": "code",
   "execution_count": null,
   "metadata": {
    "collapsed": true
   },
   "outputs": [],
   "source": [
    "dataset = pd.read_csv('C:/ContentDev-MAC/macpy/visualization/cs_data_fit.csv')\n",
    "curve = pd.read_csv('C:/ContentDev-MAC/macpy/visualization/cs_data_fit_curve.csv')"
   ]
  },
  {
   "cell_type": "code",
   "execution_count": null,
   "metadata": {
    "collapsed": false
   },
   "outputs": [],
   "source": [
    "cs.curve_slider_fit(dataset,curve,'MXGV')"
   ]
  },
  {
   "cell_type": "code",
   "execution_count": null,
   "metadata": {
    "collapsed": false
   },
   "outputs": [],
   "source": [
    "\n",
    "dataset = pd.read_csv('C:/ContentDev-MAC/macpy/visualization/cs_data_1.csv')\n",
    "dfc = pd.read_csv('C:/ContentDev-MAC/macpy/visualization/cs_data_curves_1.csv')"
   ]
  },
  {
   "cell_type": "code",
   "execution_count": null,
   "metadata": {
    "collapsed": false
   },
   "outputs": [],
   "source": [
    "cs.curve_slider_sigma(dataset,dfc,'PAGV')"
   ]
  },
  {
   "cell_type": "code",
   "execution_count": null,
   "metadata": {
    "collapsed": true
   },
   "outputs": [],
   "source": [
    "dataset = pd.read_csv('C:/ContentDev-MAC/macpy/visualization/cs_data_gamma_CHD.csv')\n",
    "dfc = pd.read_csv('C:/ContentDev-MAC/macpy/visualization/cs_data_curves_gamma_CHD.csv')"
   ]
  },
  {
   "cell_type": "code",
   "execution_count": null,
   "metadata": {
    "collapsed": false
   },
   "outputs": [],
   "source": [
    "cs.curve_slider_gamma(dataset,dfc,'CHD')"
   ]
  }
 ],
 "metadata": {
  "anaconda-cloud": {},
  "kernelspec": {
   "display_name": "Python [default]",
   "language": "python",
   "name": "python2"
  },
  "language_info": {
   "codemirror_mode": {
    "name": "ipython",
    "version": 2
   },
   "file_extension": ".py",
   "mimetype": "text/x-python",
   "name": "python",
   "nbconvert_exporter": "python",
   "pygments_lexer": "ipython2",
   "version": "2.7.12"
  }
 },
 "nbformat": 4,
 "nbformat_minor": 1
}
